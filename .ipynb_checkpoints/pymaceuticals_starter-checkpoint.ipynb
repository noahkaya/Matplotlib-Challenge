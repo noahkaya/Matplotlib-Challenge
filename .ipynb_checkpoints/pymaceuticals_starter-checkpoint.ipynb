{
 "cells": [
  {
   "cell_type": "markdown",
   "metadata": {},
   "source": [
    "## Observations and Insights"
   ]
  },
  {
   "cell_type": "markdown",
   "metadata": {},
   "source": []
  },
  {
   "cell_type": "markdown",
   "metadata": {},
   "source": [
    "## Dependencies and starter code"
   ]
  },
  {
   "cell_type": "code",
   "execution_count": 86,
   "metadata": {},
   "outputs": [
    {
     "data": {
      "text/html": [
       "<div>\n",
       "<style scoped>\n",
       "    .dataframe tbody tr th:only-of-type {\n",
       "        vertical-align: middle;\n",
       "    }\n",
       "\n",
       "    .dataframe tbody tr th {\n",
       "        vertical-align: top;\n",
       "    }\n",
       "\n",
       "    .dataframe thead th {\n",
       "        text-align: right;\n",
       "    }\n",
       "</style>\n",
       "<table border=\"1\" class=\"dataframe\">\n",
       "  <thead>\n",
       "    <tr style=\"text-align: right;\">\n",
       "      <th></th>\n",
       "      <th>Mouse ID</th>\n",
       "      <th>Drug Regimen</th>\n",
       "      <th>Sex</th>\n",
       "      <th>Age_months</th>\n",
       "      <th>Weight (g)</th>\n",
       "      <th>Timepoint</th>\n",
       "      <th>Tumor Volume (mm3)</th>\n",
       "      <th>Metastatic Sites</th>\n",
       "    </tr>\n",
       "  </thead>\n",
       "  <tbody>\n",
       "    <tr>\n",
       "      <td>0</td>\n",
       "      <td>k403</td>\n",
       "      <td>Ramicane</td>\n",
       "      <td>Male</td>\n",
       "      <td>21</td>\n",
       "      <td>16</td>\n",
       "      <td>0</td>\n",
       "      <td>45.000000</td>\n",
       "      <td>0</td>\n",
       "    </tr>\n",
       "    <tr>\n",
       "      <td>1</td>\n",
       "      <td>k403</td>\n",
       "      <td>Ramicane</td>\n",
       "      <td>Male</td>\n",
       "      <td>21</td>\n",
       "      <td>16</td>\n",
       "      <td>5</td>\n",
       "      <td>38.825898</td>\n",
       "      <td>0</td>\n",
       "    </tr>\n",
       "    <tr>\n",
       "      <td>2</td>\n",
       "      <td>k403</td>\n",
       "      <td>Ramicane</td>\n",
       "      <td>Male</td>\n",
       "      <td>21</td>\n",
       "      <td>16</td>\n",
       "      <td>10</td>\n",
       "      <td>35.014271</td>\n",
       "      <td>1</td>\n",
       "    </tr>\n",
       "    <tr>\n",
       "      <td>3</td>\n",
       "      <td>k403</td>\n",
       "      <td>Ramicane</td>\n",
       "      <td>Male</td>\n",
       "      <td>21</td>\n",
       "      <td>16</td>\n",
       "      <td>15</td>\n",
       "      <td>34.223992</td>\n",
       "      <td>1</td>\n",
       "    </tr>\n",
       "    <tr>\n",
       "      <td>4</td>\n",
       "      <td>k403</td>\n",
       "      <td>Ramicane</td>\n",
       "      <td>Male</td>\n",
       "      <td>21</td>\n",
       "      <td>16</td>\n",
       "      <td>20</td>\n",
       "      <td>32.997729</td>\n",
       "      <td>1</td>\n",
       "    </tr>\n",
       "  </tbody>\n",
       "</table>\n",
       "</div>"
      ],
      "text/plain": [
       "  Mouse ID Drug Regimen   Sex  Age_months  Weight (g)  Timepoint  \\\n",
       "0     k403     Ramicane  Male          21          16          0   \n",
       "1     k403     Ramicane  Male          21          16          5   \n",
       "2     k403     Ramicane  Male          21          16         10   \n",
       "3     k403     Ramicane  Male          21          16         15   \n",
       "4     k403     Ramicane  Male          21          16         20   \n",
       "\n",
       "   Tumor Volume (mm3)  Metastatic Sites  \n",
       "0           45.000000                 0  \n",
       "1           38.825898                 0  \n",
       "2           35.014271                 1  \n",
       "3           34.223992                 1  \n",
       "4           32.997729                 1  "
      ]
     },
     "execution_count": 86,
     "metadata": {},
     "output_type": "execute_result"
    }
   ],
   "source": [
    "# Dependencies and Setup\n",
    "import matplotlib.pyplot as plt\n",
    "import pandas as pd\n",
    "import numpy as np\n",
    "import scipy.stats as st\n",
    "import random\n",
    "\n",
    "# Study data files\n",
    "mouse_metadata = \"data/Mouse_metadata.csv\"\n",
    "study_results = \"data/Study_results.csv\"\n",
    "\n",
    "# Read the mouse data and the study results\n",
    "mouse_metadata = pd.read_csv(mouse_metadata)\n",
    "study_results = pd.read_csv(study_results)\n",
    "\n",
    "\n",
    "# Combine the data into a single dataset\n",
    "\n",
    "df = pd.merge(mouse_metadata, study_results, how=\"left\", on= \"Mouse ID\")\n",
    "df.head()"
   ]
  },
  {
   "cell_type": "markdown",
   "metadata": {},
   "source": [
    "## Summary statistics"
   ]
  },
  {
   "cell_type": "code",
   "execution_count": 66,
   "metadata": {},
   "outputs": [
    {
     "data": {
      "text/html": [
       "<div>\n",
       "<style scoped>\n",
       "    .dataframe tbody tr th:only-of-type {\n",
       "        vertical-align: middle;\n",
       "    }\n",
       "\n",
       "    .dataframe tbody tr th {\n",
       "        vertical-align: top;\n",
       "    }\n",
       "\n",
       "    .dataframe thead th {\n",
       "        text-align: right;\n",
       "    }\n",
       "</style>\n",
       "<table border=\"1\" class=\"dataframe\">\n",
       "  <thead>\n",
       "    <tr style=\"text-align: right;\">\n",
       "      <th></th>\n",
       "      <th>Tumor_Mean</th>\n",
       "      <th>Tumor_Median</th>\n",
       "      <th>Tumor_Variance</th>\n",
       "      <th>Tumore_STD</th>\n",
       "      <th>Tumor_SEM</th>\n",
       "    </tr>\n",
       "    <tr>\n",
       "      <th>Drug Regimen</th>\n",
       "      <th></th>\n",
       "      <th></th>\n",
       "      <th></th>\n",
       "      <th></th>\n",
       "      <th></th>\n",
       "    </tr>\n",
       "  </thead>\n",
       "  <tbody>\n",
       "    <tr>\n",
       "      <td>Capomulin</td>\n",
       "      <td>40.675741</td>\n",
       "      <td>41.557809</td>\n",
       "      <td>24.947764</td>\n",
       "      <td>4.994774</td>\n",
       "      <td>0.329346</td>\n",
       "    </tr>\n",
       "    <tr>\n",
       "      <td>Ceftamin</td>\n",
       "      <td>52.591172</td>\n",
       "      <td>51.776157</td>\n",
       "      <td>39.290177</td>\n",
       "      <td>6.268188</td>\n",
       "      <td>0.469821</td>\n",
       "    </tr>\n",
       "    <tr>\n",
       "      <td>Infubinol</td>\n",
       "      <td>52.884795</td>\n",
       "      <td>51.820584</td>\n",
       "      <td>43.128684</td>\n",
       "      <td>6.567243</td>\n",
       "      <td>0.492236</td>\n",
       "    </tr>\n",
       "    <tr>\n",
       "      <td>Ketapril</td>\n",
       "      <td>55.235638</td>\n",
       "      <td>53.698743</td>\n",
       "      <td>68.553577</td>\n",
       "      <td>8.279709</td>\n",
       "      <td>0.603860</td>\n",
       "    </tr>\n",
       "    <tr>\n",
       "      <td>Naftisol</td>\n",
       "      <td>54.331565</td>\n",
       "      <td>52.509285</td>\n",
       "      <td>66.173479</td>\n",
       "      <td>8.134708</td>\n",
       "      <td>0.596466</td>\n",
       "    </tr>\n",
       "    <tr>\n",
       "      <td>Placebo</td>\n",
       "      <td>54.033581</td>\n",
       "      <td>52.288934</td>\n",
       "      <td>61.168083</td>\n",
       "      <td>7.821003</td>\n",
       "      <td>0.581331</td>\n",
       "    </tr>\n",
       "    <tr>\n",
       "      <td>Propriva</td>\n",
       "      <td>52.322552</td>\n",
       "      <td>50.854632</td>\n",
       "      <td>42.351070</td>\n",
       "      <td>6.507770</td>\n",
       "      <td>0.512884</td>\n",
       "    </tr>\n",
       "    <tr>\n",
       "      <td>Ramicane</td>\n",
       "      <td>40.216745</td>\n",
       "      <td>40.673236</td>\n",
       "      <td>23.486704</td>\n",
       "      <td>4.846308</td>\n",
       "      <td>0.320955</td>\n",
       "    </tr>\n",
       "    <tr>\n",
       "      <td>Stelasyn</td>\n",
       "      <td>54.233149</td>\n",
       "      <td>52.431737</td>\n",
       "      <td>59.450562</td>\n",
       "      <td>7.710419</td>\n",
       "      <td>0.573111</td>\n",
       "    </tr>\n",
       "    <tr>\n",
       "      <td>Zoniferol</td>\n",
       "      <td>53.236507</td>\n",
       "      <td>51.818479</td>\n",
       "      <td>48.533355</td>\n",
       "      <td>6.966589</td>\n",
       "      <td>0.516398</td>\n",
       "    </tr>\n",
       "  </tbody>\n",
       "</table>\n",
       "</div>"
      ],
      "text/plain": [
       "              Tumor_Mean  Tumor_Median  Tumor_Variance  Tumore_STD  Tumor_SEM\n",
       "Drug Regimen                                                                 \n",
       "Capomulin      40.675741     41.557809       24.947764    4.994774   0.329346\n",
       "Ceftamin       52.591172     51.776157       39.290177    6.268188   0.469821\n",
       "Infubinol      52.884795     51.820584       43.128684    6.567243   0.492236\n",
       "Ketapril       55.235638     53.698743       68.553577    8.279709   0.603860\n",
       "Naftisol       54.331565     52.509285       66.173479    8.134708   0.596466\n",
       "Placebo        54.033581     52.288934       61.168083    7.821003   0.581331\n",
       "Propriva       52.322552     50.854632       42.351070    6.507770   0.512884\n",
       "Ramicane       40.216745     40.673236       23.486704    4.846308   0.320955\n",
       "Stelasyn       54.233149     52.431737       59.450562    7.710419   0.573111\n",
       "Zoniferol      53.236507     51.818479       48.533355    6.966589   0.516398"
      ]
     },
     "execution_count": 66,
     "metadata": {},
     "output_type": "execute_result"
    }
   ],
   "source": [
    "# Generate a summary statistics table of mean, median, variance, standard deviation, and SEM of the tumor volume for each regimen\n",
    "\n",
    "summary_df= df.groupby('Drug Regimen').agg({'Tumor Volume (mm3)':['mean', 'median', 'var', 'std', 'sem']})\n",
    "\n",
    "summary_df.columns = ['Tumor_Mean', 'Tumor_Median', 'Tumor_Variance', 'Tumore_STD', 'Tumor_SEM']\n",
    "\n",
    "summary_df\n"
   ]
  },
  {
   "cell_type": "markdown",
   "metadata": {},
   "source": [
    "## Bar plots"
   ]
  },
  {
   "cell_type": "code",
   "execution_count": 67,
   "metadata": {},
   "outputs": [
    {
     "data": {
      "text/html": [
       "<div>\n",
       "<style scoped>\n",
       "    .dataframe tbody tr th:only-of-type {\n",
       "        vertical-align: middle;\n",
       "    }\n",
       "\n",
       "    .dataframe tbody tr th {\n",
       "        vertical-align: top;\n",
       "    }\n",
       "\n",
       "    .dataframe thead th {\n",
       "        text-align: right;\n",
       "    }\n",
       "</style>\n",
       "<table border=\"1\" class=\"dataframe\">\n",
       "  <thead>\n",
       "    <tr style=\"text-align: right;\">\n",
       "      <th></th>\n",
       "      <th>Count</th>\n",
       "    </tr>\n",
       "    <tr>\n",
       "      <th>Drug Regimen</th>\n",
       "      <th></th>\n",
       "    </tr>\n",
       "  </thead>\n",
       "  <tbody>\n",
       "    <tr>\n",
       "      <td>Capomulin</td>\n",
       "      <td>230</td>\n",
       "    </tr>\n",
       "    <tr>\n",
       "      <td>Ceftamin</td>\n",
       "      <td>178</td>\n",
       "    </tr>\n",
       "    <tr>\n",
       "      <td>Infubinol</td>\n",
       "      <td>178</td>\n",
       "    </tr>\n",
       "    <tr>\n",
       "      <td>Ketapril</td>\n",
       "      <td>188</td>\n",
       "    </tr>\n",
       "    <tr>\n",
       "      <td>Naftisol</td>\n",
       "      <td>186</td>\n",
       "    </tr>\n",
       "    <tr>\n",
       "      <td>Placebo</td>\n",
       "      <td>181</td>\n",
       "    </tr>\n",
       "    <tr>\n",
       "      <td>Propriva</td>\n",
       "      <td>161</td>\n",
       "    </tr>\n",
       "    <tr>\n",
       "      <td>Ramicane</td>\n",
       "      <td>228</td>\n",
       "    </tr>\n",
       "    <tr>\n",
       "      <td>Stelasyn</td>\n",
       "      <td>181</td>\n",
       "    </tr>\n",
       "    <tr>\n",
       "      <td>Zoniferol</td>\n",
       "      <td>182</td>\n",
       "    </tr>\n",
       "  </tbody>\n",
       "</table>\n",
       "</div>"
      ],
      "text/plain": [
       "              Count\n",
       "Drug Regimen       \n",
       "Capomulin       230\n",
       "Ceftamin        178\n",
       "Infubinol       178\n",
       "Ketapril        188\n",
       "Naftisol        186\n",
       "Placebo         181\n",
       "Propriva        161\n",
       "Ramicane        228\n",
       "Stelasyn        181\n",
       "Zoniferol       182"
      ]
     },
     "execution_count": 67,
     "metadata": {},
     "output_type": "execute_result"
    }
   ],
   "source": [
    "bar_data = pd.DataFrame({'Drug Regimen': df.groupby('Drug Regimen')['Tumor Volume (mm3)'].\n",
    "                         count().keys(),'Count': df.groupby('Drug Regimen')['Tumor Volume (mm3)'].count().values})\n",
    "bar_data.set_index('Drug Regimen', inplace=True)\n",
    "bar_data"
   ]
  },
  {
   "cell_type": "code",
   "execution_count": 68,
   "metadata": {},
   "outputs": [
    {
     "data": {
      "text/plain": [
       "Text(0, 0.5, 'Tumor Volume (mm3)')"
      ]
     },
     "execution_count": 68,
     "metadata": {},
     "output_type": "execute_result"
    },
    {
     "data": {
      "image/png": "[encoded data removed]",
      "text/plain": [
       "<Figure size 360x288 with 1 Axes>"
      ]
     },
     "metadata": {
      "needs_background": "light"
     },
     "output_type": "display_data"
    }
   ],
   "source": [
    "# Generate a bar plot showing number of data points for each treatment regimen using pandas\n",
    "bar_char = bar_data.plot(kind= 'bar', title = \"Treatment Regimen\", figsize=(5,4),legend=True, fontsize=10)\n",
    "bar_char.set_xlabel(\"Drug Regimen\", fontsize=12)\n",
    "bar_char.set_ylabel(\"Tumor Volume (mm3)\",fontsize=12)\n"
   ]
  },
  {
   "cell_type": "code",
   "execution_count": 87,
   "metadata": {},
   "outputs": [
    {
     "data": {
      "text/plain": [
       "<function matplotlib.pyplot.show(*args, **kw)>"
      ]
     },
     "execution_count": 87,
     "metadata": {},
     "output_type": "execute_result"
    },
    {
     "data": {
      "image/png": "[encoded data removed]",
      "text/plain": [
       "<Figure size 432x288 with 1 Axes>"
      ]
     },
     "metadata": {
      "needs_background": "light"
     },
     "output_type": "display_data"
    }
   ],
   "source": [
    "# Generate a bar plot showing number of data points for each treatment regimen using pyplot\n",
    "\n",
    "regimen = [\"Capomulin\", \"Ceftamin\", \"Infubinol\", \"Ketapril\", \"Naftisol\", \"Placebo\", \"Propriva\", \"Ramicane\",\n",
    "           \"Stelaslyn\", \"Zoniferol\" ]\n",
    "# count = [230, 178, 178, 188, 186, 181, 161, 228, 181, 182]\n",
    "\n",
    "x_axis = np.arange(len(bar_data))\n",
    "\n",
    "tick_locations = [value for value in x_axis]\n",
    "\n",
    "count = bar_data['Count']\n",
    "\n",
    "plt.bar(x_axis, count, width=.5, align=\"center\")\n",
    "\n",
    "plt.xticks(tick_locations, regimen, rotation='vertical')\n",
    "\n",
    "plt.xlim(-0.75, len(x_axis)-0.25)\n",
    "\n",
    "plt.ylim(0, max(count)+25)\n",
    "\n",
    "plt.title(\"Data Points of Treatment Regimen\")\n",
    "\n",
    "plt.xlabel(\"Drug regimen\")\n",
    "\n",
    "plt.ylabel(\"Tumor Volume (mm3)\")\n",
    "\n",
    "plt.show\n",
    "\n",
    "\n"
   ]
  },
  {
   "cell_type": "markdown",
   "metadata": {},
   "source": [
    "# Pie plots"
   ]
  },
  {
   "cell_type": "code",
   "execution_count": 70,
   "metadata": {},
   "outputs": [
    {
     "data": {
      "text/plain": [
       "array([<matplotlib.axes._subplots.AxesSubplot object at 0x000002AC08D86848>],\n",
       "      dtype=object)"
      ]
     },
     "execution_count": 70,
     "metadata": {},
     "output_type": "execute_result"
    },
    {
     "data": {
      "image/png": "[encoded data removed]",
      "text/plain": [
       "<Figure size 432x288 with 1 Axes>"
      ]
     },
     "metadata": {},
     "output_type": "display_data"
    }
   ],
   "source": [
    "# Generate a pie plot showing the distribution of female versus male mice using pandas\n",
    "\n",
    "mice_groups = df.loc[:, ['Sex','Mouse ID']]\n",
    "\n",
    "mice_groups = mice_groups.drop_duplicates()\n",
    "\n",
    "gender_mice = mice_groups.groupby('Sex')\n",
    "\n",
    "gender_mice = gender_mice.count()\n",
    "\n",
    "explode = (0,0.1)\n",
    "\n",
    "colors = [\"lightblue\",\"orange\"]\n",
    "\n",
    "gender_mice.plot.pie(subplots=True, explode=explode, autopct='%1.1f%%', shadow=True, colors=colors, startangle=140)\n"
   ]
  },
  {
   "cell_type": "code",
   "execution_count": 71,
   "metadata": {},
   "outputs": [
    {
     "data": {
      "image/png": "[encoded data removed]",
      "text/plain": [
       "<Figure size 432x288 with 1 Axes>"
      ]
     },
     "metadata": {},
     "output_type": "display_data"
    }
   ],
   "source": [
    "# Generate a pie plot showing the distribution of female versus male mice using pyplot\n",
    "\n",
    "male = df.loc[df['Sex'] == 'Male',:]\n",
    "\n",
    "total_male = len(male[\"Mouse ID\"].unique())\n",
    "\n",
    "female = df.loc[df['Sex'] == 'Female',:]\n",
    "\n",
    "total_female = len(female[\"Mouse ID\"].unique())\n",
    "\n",
    "total = total_female + total_male\n",
    "\n",
    "numbers = [125, 124]\n",
    "\n",
    "explode = (0,0.1)\n",
    "\n",
    "labels = [\"Male\",\"Female\"]\n",
    "\n",
    "colors = [\"orange\",\"lightblue\"]\n",
    "\n",
    "plt.pie(numbers, explode=explode, labels=labels, colors=colors,\n",
    "        autopct=\"%1.1f%%\", shadow=True, startangle=140)\n",
    "\n",
    "plt.axis(\"equal\")\n",
    "\n",
    "plt.show()"
   ]
  },
  {
   "cell_type": "markdown",
   "metadata": {},
   "source": [
    "## Quartiles, outliers and boxplots"
   ]
  },
  {
   "cell_type": "code",
   "execution_count": 72,
   "metadata": {},
   "outputs": [
    {
     "name": "stdout",
     "output_type": "stream",
     "text": [
      "     Mouse ID  Timepoint  Tumor Volume (mm3) Drug Regimen\n",
      "19       s185         45           23.343598    Capomulin\n",
      "29       x401         45           28.484033    Capomulin\n",
      "39       m601         45           28.430964    Capomulin\n",
      "64       f966         20           30.485985    Capomulin\n",
      "104      u364         45           31.023923    Capomulin\n",
      "124      y793         45           31.896238    Capomulin\n",
      "134      r554         45           32.377357    Capomulin\n",
      "144      m957         45           33.329098    Capomulin\n",
      "164      t565         45           34.455298    Capomulin\n",
      "204      i738         45           37.311846    Capomulin\n",
      "224      w914         45           36.041047    Capomulin\n",
      "244      g288         45           37.074024    Capomulin\n",
      "282      l897         45           38.846876    Capomulin\n",
      "299      b742         45           38.939633    Capomulin\n",
      "309      b128         45           38.982878    Capomulin\n",
      "317      j246         35           38.753265    Capomulin\n",
      "337      j119         45           38.125164    Capomulin\n",
      "340      w150         10           39.952347    Capomulin\n",
      "350      v923         45           40.658124    Capomulin\n",
      "360      g316         45           40.159220    Capomulin\n",
      "370      s710         45           40.728578    Capomulin\n",
      "380      l509         45           41.483008    Capomulin\n",
      "390      r944         45           41.581521    Capomulin\n",
      "440      i557         45           47.685963    Capomulin\n",
      "1455     r157         15           46.539206    Capomulin\n"
     ]
    }
   ],
   "source": [
    "# Calculate the final tumor volume of each mouse across four of the most promising treatment regimens. \n",
    "\n",
    "#1 effective 'CAPOMULIN' \n",
    "\n",
    "df_2 = df[[\"Mouse ID\",\"Timepoint\",\"Tumor Volume (mm3)\",\"Drug Regimen\"]]\n",
    "\n",
    "cap = df_2.loc[df_2['Drug Regimen'] == 'Capomulin']\n",
    "\n",
    "cap = cap.groupby(\"Mouse ID\").tail(1)\n",
    "\n",
    "print(cap)"
   ]
  },
  {
   "cell_type": "code",
   "execution_count": 73,
   "metadata": {},
   "outputs": [
    {
     "name": "stdout",
     "output_type": "stream",
     "text": [
      "    Mouse ID  Timepoint  Tumor Volume (mm3) Drug Regimen\n",
      "9       k403         45           22.050126     Ramicane\n",
      "49      g791         45           29.128472     Ramicane\n",
      "59      s508         45           30.276232     Ramicane\n",
      "74      m546         45           30.564625     Ramicane\n",
      "84      z578         45           30.638696     Ramicane\n",
      "94      j913         45           31.560470     Ramicane\n",
      "114     n364         45           31.095335     Ramicane\n",
      "154     c758         45           33.397653     Ramicane\n",
      "174     a644         45           32.978522     Ramicane\n",
      "184     i177         45           33.562402     Ramicane\n",
      "194     j989         45           36.134852     Ramicane\n",
      "214     a520         45           38.810366     Ramicane\n",
      "234     r811         45           37.225650     Ramicane\n",
      "254     i334         45           36.374510     Ramicane\n",
      "262     q610         35           36.561652     Ramicane\n",
      "272     d251         45           37.311236     Ramicane\n",
      "289     c458         30           38.342008     Ramicane\n",
      "327     a411         45           38.407618     Ramicane\n",
      "400     e662         45           40.659006     Ramicane\n",
      "410     u196         45           40.667713     Ramicane\n",
      "420     q597         45           45.220869     Ramicane\n",
      "430     a444         45           43.047543     Ramicane\n",
      "447     r921         30           43.419381     Ramicane\n",
      "449     w678          5           43.166373     Ramicane\n",
      "453     y449         15           44.183451     Ramicane\n"
     ]
    }
   ],
   "source": [
    "#2 effective 'RAMICANE' \n",
    "\n",
    "\n",
    "df_2 = df[[\"Mouse ID\",\"Timepoint\",\"Tumor Volume (mm3)\",\"Drug Regimen\"]]\n",
    "\n",
    "ram = df_2.loc[df_2['Drug Regimen'] == 'Ramicane']\n",
    "\n",
    "ram = ram.groupby(\"Mouse ID\").tail(1)\n",
    "\n",
    "print(ram)\n"
   ]
  },
  {
   "cell_type": "code",
   "execution_count": 88,
   "metadata": {},
   "outputs": [
    {
     "name": "stdout",
     "output_type": "stream",
     "text": [
      "     Mouse ID  Timepoint  Tumor Volume (mm3) Drug Regimen\n",
      "463      a203         45           67.973419    Infubinol\n",
      "473      a251         45           65.525743    Infubinol\n",
      "530      a577         30           57.031862    Infubinol\n",
      "540      a685         45           66.083066    Infubinol\n",
      "637      c139         45           72.226731    Infubinol\n",
      "669      c326          5           36.321346    Infubinol\n",
      "742      c895         30           60.969711    Infubinol\n",
      "800      e476         45           62.435404    Infubinol\n",
      "834      f345         45           60.918767    Infubinol\n",
      "949      i386         40           67.289621    Infubinol\n",
      "1053     k483         45           66.196912    Infubinol\n",
      "1076     k804         35           62.117279    Infubinol\n",
      "1205     m756          5           47.010364    Infubinol\n",
      "1225     n671         30           60.165180    Infubinol\n",
      "1312     o809         35           55.629428    Infubinol\n",
      "1314     o813          5           45.699331    Infubinol\n",
      "1397     q132         30           54.656549    Infubinol\n",
      "1485     s121         25           55.650681    Infubinol\n",
      "1616     v339          5           46.250112    Infubinol\n",
      "1632     v719         20           54.048608    Infubinol\n",
      "1640     v766         15           51.542431    Infubinol\n",
      "1683     w193         20           50.005138    Infubinol\n",
      "1726     w584         30           58.268442    Infubinol\n",
      "1813     y163         45           67.685569    Infubinol\n",
      "1872     z581         45           62.754451    Infubinol\n"
     ]
    }
   ],
   "source": [
    "#3 effective 'INFUBINOL' \n",
    "\n",
    "df_2 = df[[\"Mouse ID\",\"Timepoint\",\"Tumor Volume (mm3)\",\"Drug Regimen\"]]\n",
    "\n",
    "inf = df_2.loc[df_2['Drug Regimen'] == 'Infubinol']\n",
    "\n",
    "inf = inf.groupby(\"Mouse ID\").tail(1)\n",
    "\n",
    "print(inf)"
   ]
  },
  {
   "cell_type": "code",
   "execution_count": 90,
   "metadata": {},
   "outputs": [
    {
     "name": "stdout",
     "output_type": "stream",
     "text": [
      "     Mouse ID  Timepoint  Tumor Volume (mm3) Drug Regimen\n",
      "493      a275         45           62.999356     Ceftamin\n",
      "594      b447          0           45.000000     Ceftamin\n",
      "600      b487         25           56.057749     Ceftamin\n",
      "617      b759         30           55.742829     Ceftamin\n",
      "840      f436         15           48.722078     Ceftamin\n",
      "940      h531          5           47.784682     Ceftamin\n",
      "993      j296         45           61.849023     Ceftamin\n",
      "1033     k210         45           68.923185     Ceftamin\n",
      "1112     l471         45           67.748662     Ceftamin\n",
      "1119     l490         30           57.918381     Ceftamin\n",
      "1122     l558         10           46.784535     Ceftamin\n",
      "1132     l661         45           59.851956     Ceftamin\n",
      "1162     l733         45           64.299830     Ceftamin\n",
      "1260     o287         45           59.741901     Ceftamin\n",
      "1379     p438         45           61.433892     Ceftamin\n",
      "1406     q483         40           64.192341     Ceftamin\n",
      "1551     t573          0           45.000000     Ceftamin\n",
      "1582     u149         25           52.925348     Ceftamin\n",
      "1583     u153          0           45.000000     Ceftamin\n",
      "1670     w151         45           67.527482     Ceftamin\n",
      "1743     x226          0           45.000000     Ceftamin\n",
      "1773     x581         45           64.634949     Ceftamin\n",
      "1797     x822         45           61.386660     Ceftamin\n",
      "1845     y769         45           68.594745     Ceftamin\n",
      "1855     y865         45           64.729837     Ceftamin\n"
     ]
    }
   ],
   "source": [
    "#4 effective 'CEFTAMIN'\n",
    "\n",
    "df_2 = df[[\"Mouse ID\",\"Timepoint\",\"Tumor Volume (mm3)\",\"Drug Regimen\"]]\n",
    "\n",
    "cef = df_2.loc[df_2['Drug Regimen'] == 'Ceftamin']\n",
    "\n",
    "cef = cef.groupby(\"Mouse ID\").tail(1)\n",
    "\n",
    "print(cef)"
   ]
  },
  {
   "cell_type": "code",
   "execution_count": 76,
   "metadata": {},
   "outputs": [
    {
     "name": "stdout",
     "output_type": "stream",
     "text": [
      "Capomulin IQR\n",
      "The lower quartile of tumor volume is: 32.37735684\n",
      "The upper quartile of tumor volume is: 40.1592203\n",
      "The interquartile range of tumor volume is: 7.781863460000004\n",
      "The the median of tumor volume is: 38.125164399999996 \n",
      "Values below 20.70456164999999 could be outliers.\n",
      "Values above 51.83201549 could be outliers.\n"
     ]
    }
   ],
   "source": [
    "# Calculate the IQR and quantitatively determine if there are any potential outliers. \n",
    "\n",
    "# POTENTIAL OUTLIER; '#1 CAPOMULIN'\n",
    "\n",
    "quartiles = cap['Tumor Volume (mm3)'].quantile([.25,.5,.75])\n",
    "\n",
    "lowerq = quartiles[0.25]\n",
    "\n",
    "upperq = quartiles[0.75]\n",
    "\n",
    "iqr = upperq-lowerq\n",
    "\n",
    "print('Capomulin IQR')\n",
    "\n",
    "print(f\"The lower quartile of tumor volume is: {lowerq}\")\n",
    "\n",
    "print(f\"The upper quartile of tumor volume is: {upperq}\")\n",
    "\n",
    "print(f\"The interquartile range of tumor volume is: {iqr}\")\n",
    "\n",
    "print(f\"The the median of tumor volume is: {quartiles[0.5]} \")\n",
    "\n",
    "lower_bound = lowerq - (1.5*iqr)\n",
    "\n",
    "upper_bound = upperq + (1.5*iqr)\n",
    "\n",
    "print(f\"Values below {lower_bound} could be outliers.\")\n",
    "\n",
    "print(f\"Values above {upper_bound} could be outliers.\")\n"
   ]
  },
  {
   "cell_type": "code",
   "execution_count": 77,
   "metadata": {},
   "outputs": [
    {
     "name": "stdout",
     "output_type": "stream",
     "text": [
      "Ramicane IQR\n",
      "The lower quartile of tumor volume is: 31.56046955\n",
      "The upper quartile of tumor volume is: 40.65900627\n",
      "The interquartile range of tumor volume is: 9.098536719999998\n",
      "The the median of tumor volume is: 36.56165229 \n",
      "Values below 17.912664470000003 could be outliers.\n",
      "Values above 54.30681135 could be outliers.\n"
     ]
    }
   ],
   "source": [
    "# POTENTIAL OUTLIER; '#2 RAMICANE'\n",
    "\n",
    "quartiles = ram['Tumor Volume (mm3)'].quantile([.25,.5,.75])\n",
    "\n",
    "lowerq = quartiles[0.25]\n",
    "\n",
    "upperq = quartiles[0.75]\n",
    "\n",
    "iqr = upperq-lowerq\n",
    "\n",
    "print('Ramicane IQR')\n",
    "\n",
    "print(f\"The lower quartile of tumor volume is: {lowerq}\")\n",
    "\n",
    "print(f\"The upper quartile of tumor volume is: {upperq}\")\n",
    "\n",
    "print(f\"The interquartile range of tumor volume is: {iqr}\")\n",
    "\n",
    "print(f\"The the median of tumor volume is: {quartiles[0.5]} \")\n",
    "\n",
    "lower_bound = lowerq - (1.5*iqr)\n",
    "\n",
    "upper_bound = upperq + (1.5*iqr)\n",
    "\n",
    "print(f\"Values below {lower_bound} could be outliers.\")\n",
    "\n",
    "print(f\"Values above {upper_bound} could be outliers.\")"
   ]
  },
  {
   "cell_type": "code",
   "execution_count": 91,
   "metadata": {},
   "outputs": [
    {
     "name": "stdout",
     "output_type": "stream",
     "text": [
      "Infubinol IQR\n",
      "The lower quartile of tumor volume is: 54.04860769\n",
      "The upper quartile of tumor volume is: 65.52574285\n",
      "The interquartile range of tumor volume is: 11.477135160000003\n",
      "The the median of tumor volume is: 60.16518046 \n",
      "Values below 36.83290494999999 could be outliers.\n",
      "Values above 82.74144559000001 could be outliers.\n"
     ]
    }
   ],
   "source": [
    "# POTENTIAL OUTLIER; '#3 INFUBINOL'\n",
    "\n",
    "quartiles = inf['Tumor Volume (mm3)'].quantile([.25,.5,.75])\n",
    "\n",
    "lowerq = quartiles[0.25]\n",
    "\n",
    "upperq = quartiles[0.75]\n",
    "\n",
    "iqr = upperq-lowerq\n",
    "\n",
    "print('Infubinol IQR')\n",
    "\n",
    "print(f\"The lower quartile of tumor volume is: {lowerq}\")\n",
    "\n",
    "print(f\"The upper quartile of tumor volume is: {upperq}\")\n",
    "\n",
    "print(f\"The interquartile range of tumor volume is: {iqr}\")\n",
    "\n",
    "print(f\"The the median of tumor volume is: {quartiles[0.5]} \")\n",
    "\n",
    "lower_bound = lowerq - (1.5*iqr)\n",
    "\n",
    "upper_bound = upperq + (1.5*iqr)\n",
    "\n",
    "print(f\"Values below {lower_bound} could be outliers.\")\n",
    "\n",
    "print(f\"Values above {upper_bound} could be outliers.\")"
   ]
  },
  {
   "cell_type": "code",
   "execution_count": 92,
   "metadata": {},
   "outputs": [
    {
     "name": "stdout",
     "output_type": "stream",
     "text": [
      "Ceftamin IQR\n",
      "The lower quartile of tumor volume is: 48.72207785\n",
      "The upper quartile of tumor volume is: 64.29983003\n",
      "The interquartile range of tumor volume is: 15.577752179999997\n",
      "The the median of tumor volume is: 59.85195552 \n",
      "Values below 25.355449580000002 could be outliers.\n",
      "Values above 87.66645829999999 could be outliers.\n"
     ]
    }
   ],
   "source": [
    "# POTENTIAL OUTLIER; '#4 CEFTAMIN'\n",
    "\n",
    "quartiles = cef['Tumor Volume (mm3)'].quantile([.25,.5,.75])\n",
    "\n",
    "lowerq = quartiles[0.25]\n",
    "\n",
    "upperq = quartiles[0.75]\n",
    "\n",
    "iqr = upperq-lowerq\n",
    "\n",
    "print('Ceftamin IQR')\n",
    "\n",
    "print(f\"The lower quartile of tumor volume is: {lowerq}\")\n",
    "\n",
    "print(f\"The upper quartile of tumor volume is: {upperq}\")\n",
    "\n",
    "print(f\"The interquartile range of tumor volume is: {iqr}\")\n",
    "\n",
    "print(f\"The the median of tumor volume is: {quartiles[0.5]} \")\n",
    "\n",
    "lower_bound = lowerq - (1.5*iqr)\n",
    "\n",
    "upper_bound = upperq + (1.5*iqr)\n",
    "\n",
    "print(f\"Values below {lower_bound} could be outliers.\")\n",
    "\n",
    "print(f\"Values above {upper_bound} could be outliers.\")"
   ]
  },
  {
   "cell_type": "code",
   "execution_count": 93,
   "metadata": {},
   "outputs": [
    {
     "data": {
      "image/png": "[encoded data removed]",
      "text/plain": [
       "<Figure size 576x576 with 1 Axes>"
      ]
     },
     "metadata": {
      "needs_background": "light"
     },
     "output_type": "display_data"
    },
    {
     "data": {
      "image/png": "[encoded data removed]",
      "text/plain": [
       "<Figure size 432x288 with 1 Axes>"
      ]
     },
     "metadata": {
      "needs_background": "light"
     },
     "output_type": "display_data"
    },
    {
     "data": {
      "image/png": "[encoded data removed]",
      "text/plain": [
       "<Figure size 432x288 with 1 Axes>"
      ]
     },
     "metadata": {
      "needs_background": "light"
     },
     "output_type": "display_data"
    },
    {
     "data": {
      "image/png": "[encoded data removed]",
      "text/plain": [
       "<Figure size 432x288 with 1 Axes>"
      ]
     },
     "metadata": {
      "needs_background": "light"
     },
     "output_type": "display_data"
    },
    {
     "data": {
      "image/png": "[encoded data removed]",
      "text/plain": [
       "<Figure size 432x288 with 1 Axes>"
      ]
     },
     "metadata": {
      "needs_background": "light"
     },
     "output_type": "display_data"
    }
   ],
   "source": [
    "# Generate a box plot of the final tumor volume of each mouse across four regimens of interest\n",
    "\n",
    "combined = cap[['Tumor Volume (mm3)',\"Drug Regimen\"]]\n",
    "\n",
    "combined = combined.append(ram[['Tumor Volume (mm3)',\"Drug Regimen\"]])\n",
    "\n",
    "combined = combined.append(inf[['Tumor Volume (mm3)',\"Drug Regimen\"]])\n",
    "\n",
    "combined = combined.append(cef[['Tumor Volume (mm3)',\"Drug Regimen\"]])\n",
    "\n",
    "\n",
    "\n",
    "flierprops = dict(marker='o', markerfacecolor='green', markersize=12,\n",
    "                  linestyle='none')\n",
    "\n",
    "combined.boxplot(by=\"Drug Regimen\", flierprops=flierprops, figsize=(8,8))\n",
    "\n",
    "plt.show()\n",
    "\n",
    "\n",
    "fig1, ax1 = plt.subplots()\n",
    "\n",
    "ax1.set_title('Capomulin')\n",
    "\n",
    "ax1.set_ylabel('Tumor Volume (mm3)')\n",
    "\n",
    "ax1.boxplot(cap['Tumor Volume (mm3)'], 0, 'gD')\n",
    "\n",
    "plt.show()\n",
    "\n",
    "\n",
    "fig2, ax2 = plt.subplots()\n",
    "\n",
    "ax2.set_title('Ramicane')\n",
    "\n",
    "ax2.set_ylabel('Tumor Volume (mm3)')\n",
    "\n",
    "ax2.boxplot(ram['Tumor Volume (mm3)'], 0, 'gD')\n",
    "\n",
    "plt.show()\n",
    "\n",
    "\n",
    "fig3, ax3 = plt.subplots()\n",
    "\n",
    "ax3.set_title('Infubinol')\n",
    "\n",
    "ax3.set_ylabel('Tumor Volume (mm3)')\n",
    "\n",
    "ax3.boxplot(ket['Tumor Volume (mm3)'], 0, 'gD')\n",
    "\n",
    "plt.show()\n",
    "\n",
    "\n",
    "fig4, ax4 = plt.subplots()\n",
    "\n",
    "ax4.set_title('Ceftamin')\n",
    "\n",
    "ax4.set_ylabel('Tumor Volume (mm3)')\n",
    "\n",
    "ax4.boxplot(naf['Tumor Volume (mm3)'], 0, 'gD')\n",
    "\n",
    "plt.show()"
   ]
  },
  {
   "cell_type": "markdown",
   "metadata": {},
   "source": [
    "## Line and scatter plots"
   ]
  },
  {
   "cell_type": "code",
   "execution_count": 96,
   "metadata": {},
   "outputs": [
    {
     "data": {
      "text/plain": [
       "Text(0, 0.5, 'Tumor Volume (mm3)')"
      ]
     },
     "execution_count": 96,
     "metadata": {},
     "output_type": "execute_result"
    },
    {
     "data": {
      "image/png": "[encoded data removed]",
      "text/plain": [
       "<Figure size 432x288 with 1 Axes>"
      ]
     },
     "metadata": {
      "needs_background": "light"
     },
     "output_type": "display_data"
    }
   ],
   "source": [
    "# Generate a line plot of time point versus tumor volume for a mouse treated with Capomulin\n",
    "\n",
    "line_plot = df.loc[df['Drug Regimen'] == 'Capomulin']\n",
    "\n",
    "mouse_list = line_plot.drop_duplicates(['Mouse ID'])\n",
    "\n",
    "mouse_list = list(mouse_list['Mouse ID'])\n",
    "\n",
    "line_data = line_plot.loc[line_plot['Mouse ID'] == random.choice(mouse_list)]\n",
    "\n",
    "subjectid = line_data.iloc[0]['Mouse ID']\n",
    "\n",
    "x_values = line_data['Timepoint']\n",
    "\n",
    "y_values = line_data['Tumor Volume (mm3)']\n",
    "\n",
    "plt.plot(x_values,y_values)\n",
    "\n",
    "plt.xlabel('Timepoint')\n",
    "\n",
    "plt.ylabel('Tumor Volume (mm3)')"
   ]
  },
  {
   "cell_type": "code",
   "execution_count": 95,
   "metadata": {},
   "outputs": [
    {
     "data": {
      "image/png": "[encoded data removed]",
      "text/plain": [
       "<Figure size 432x288 with 1 Axes>"
      ]
     },
     "metadata": {
      "needs_background": "light"
     },
     "output_type": "display_data"
    }
   ],
   "source": [
    "# Generate a scatter plot of mouse weight versus average tumor volume for the Capomulin regimen\n",
    "\n",
    "scatter_plot = line_plot.groupby(['Mouse ID'])\n",
    "\n",
    "weight = scatter_plot['Weight (g)'].mean()\n",
    "\n",
    "av_tumor = scatter_plot['Tumor Volume (mm3)'].mean()\n",
    "\n",
    "scatter_pd = pd.merge(weight, av_tumor, on='Mouse ID')\n",
    "\n",
    "# print(scatter_pd)\n",
    "\n",
    "plt.scatter(scatter_pd.iloc[:,0],scatter_pd.iloc[:,1])\n",
    "\n",
    "plt.xlabel('Weight (g)')\n",
    "\n",
    "plt.ylabel('Tumor Volume (mm3)')\n",
    "\n",
    "plt.show()"
   ]
  },
  {
   "cell_type": "code",
   "execution_count": 83,
   "metadata": {},
   "outputs": [
    {
     "name": "stdout",
     "output_type": "stream",
     "text": [
      "Correlation / Coefficient of Weight vs Ave Tumor Volume for the Capomulin regimen is 0.84\n"
     ]
    },
    {
     "data": {
      "image/png": "[encoded data removed]",
      "text/plain": [
       "<Figure size 432x288 with 1 Axes>"
      ]
     },
     "metadata": {
      "needs_background": "light"
     },
     "output_type": "display_data"
    }
   ],
   "source": [
    "# Calculate the correlation coefficient and linear regression model for mouse weight and average tumor volume for \n",
    "# the Capomulin regimen\n",
    "\n",
    "x_values = scatter_pd.iloc[:,0]\n",
    "\n",
    "y_values = scatter_pd.iloc[:,1]\n",
    "\n",
    "print(f\"Correlation / Coefficient of Weight vs Ave Tumor Volume for the Capomulin regimen is {round(st.pearsonr(x_values,y_values)[0],2)}\")\n",
    "\n",
    "(slope, intercept, rvalue, pvalue, stderr) = st.linregress(x_values, y_values)\n",
    "\n",
    "regress_values = x_values * slope + intercept\n",
    "\n",
    "line_eq = \"y = \" + str(round(slope,2)) + \"x + \" + str(round(intercept,2))\n",
    "\n",
    "plt.scatter(x_values,y_values)\n",
    "\n",
    "plt.plot(x_values,regress_values,\"r-\")\n",
    "\n",
    "plt.annotate(line_eq,(6,10),fontsize=15,color=\"red\")\n",
    "\n",
    "plt.xlabel('Weight (g)')\n",
    "\n",
    "plt.ylabel('Tumor Volume (mm3)')\n",
    "\n",
    "plt.show()"
   ]
  },
  {
   "cell_type": "code",
   "execution_count": null,
   "metadata": {},
   "outputs": [],
   "source": []
  }
 ],
 "metadata": {
  "anaconda-cloud": {},
  "kernelspec": {
   "display_name": "Python 3",
   "language": "python",
   "name": "python3"
  },
  "language_info": {
   "codemirror_mode": {
    "name": "ipython",
    "version": 3
   },
   "file_extension": ".py",
   "mimetype": "text/x-python",
   "name": "python",
   "nbconvert_exporter": "python",
   "pygments_lexer": "ipython3",
   "version": "3.7.4"
  }
 },
 "nbformat": 4,
 "nbformat_minor": 2
}
